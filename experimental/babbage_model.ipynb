{
  "nbformat": 4,
  "nbformat_minor": 0,
  "metadata": {
    "colab": {
      "name": "babbage model.ipynb",
      "provenance": [],
      "collapsed_sections": []
    },
    "kernelspec": {
      "name": "python3",
      "display_name": "Python 3"
    },
    "language_info": {
      "name": "python"
    }
  },
  "cells": [
    {
      "cell_type": "code",
      "metadata": {
        "colab": {
          "base_uri": "https://localhost:8080/",
          "height": 1000
        },
        "id": "ZLULvCAwMpA3",
        "outputId": "785595e8-6b43-40c6-ec32-297923898c03"
      },
      "source": [
        "!pip install datapackage-pipelines"
      ],
      "execution_count": 1,
      "outputs": [
        {
          "output_type": "stream",
          "name": "stdout",
          "text": [
            "Collecting datapackage-pipelines\n",
            "  Downloading datapackage_pipelines-2.2.9-py2.py3-none-any.whl (102 kB)\n",
            "\u001b[?25l\r\u001b[K     |███▏                            | 10 kB 17.5 MB/s eta 0:00:01\r\u001b[K     |██████▍                         | 20 kB 20.7 MB/s eta 0:00:01\r\u001b[K     |█████████▋                      | 30 kB 23.5 MB/s eta 0:00:01\r\u001b[K     |████████████▉                   | 40 kB 26.2 MB/s eta 0:00:01\r\u001b[K     |████████████████                | 51 kB 28.3 MB/s eta 0:00:01\r\u001b[K     |███████████████████▎            | 61 kB 30.2 MB/s eta 0:00:01\r\u001b[K     |██████████████████████▌         | 71 kB 31.8 MB/s eta 0:00:01\r\u001b[K     |█████████████████████████▊      | 81 kB 33.4 MB/s eta 0:00:01\r\u001b[K     |████████████████████████████▉   | 92 kB 34.1 MB/s eta 0:00:01\r\u001b[K     |████████████████████████████████| 102 kB 9.7 MB/s \n",
            "\u001b[?25hRequirement already satisfied: click<8.0 in /usr/local/lib/python3.7/dist-packages (from datapackage-pipelines) (7.1.2)\n",
            "Collecting celery<5\n",
            "  Downloading celery-4.4.7-py2.py3-none-any.whl (427 kB)\n",
            "\u001b[?25l\r\u001b[K     |▊                               | 10 kB 28.0 MB/s eta 0:00:01\r\u001b[K     |█▌                              | 20 kB 16.0 MB/s eta 0:00:01\r\u001b[K     |██▎                             | 30 kB 20.7 MB/s eta 0:00:01\r\u001b[K     |███                             | 40 kB 24.6 MB/s eta 0:00:01\r\u001b[K     |███▉                            | 51 kB 26.9 MB/s eta 0:00:01\r\u001b[K     |████▋                           | 61 kB 29.2 MB/s eta 0:00:01\r\u001b[K     |█████▍                          | 71 kB 31.6 MB/s eta 0:00:01\r\u001b[K     |██████▏                         | 81 kB 33.4 MB/s eta 0:00:01\r\u001b[K     |███████                         | 92 kB 35.1 MB/s eta 0:00:01\r\u001b[K     |███████▋                        | 102 kB 36.6 MB/s eta 0:00:01\r\u001b[K     |████████▍                       | 112 kB 36.6 MB/s eta 0:00:01\r\u001b[K     |█████████▏                      | 122 kB 36.6 MB/s eta 0:00:01\r\u001b[K     |██████████                      | 133 kB 36.6 MB/s eta 0:00:01\r\u001b[K     |██████████▊                     | 143 kB 36.6 MB/s eta 0:00:01\r\u001b[K     |███████████▌                    | 153 kB 36.6 MB/s eta 0:00:01\r\u001b[K     |████████████▎                   | 163 kB 36.6 MB/s eta 0:00:01\r\u001b[K     |█████████████                   | 174 kB 36.6 MB/s eta 0:00:01\r\u001b[K     |█████████████▉                  | 184 kB 36.6 MB/s eta 0:00:01\r\u001b[K     |██████████████▋                 | 194 kB 36.6 MB/s eta 0:00:01\r\u001b[K     |███████████████▎                | 204 kB 36.6 MB/s eta 0:00:01\r\u001b[K     |████████████████                | 215 kB 36.6 MB/s eta 0:00:01\r\u001b[K     |████████████████▉               | 225 kB 36.6 MB/s eta 0:00:01\r\u001b[K     |█████████████████▋              | 235 kB 36.6 MB/s eta 0:00:01\r\u001b[K     |██████████████████▍             | 245 kB 36.6 MB/s eta 0:00:01\r\u001b[K     |███████████████████▏            | 256 kB 36.6 MB/s eta 0:00:01\r\u001b[K     |████████████████████            | 266 kB 36.6 MB/s eta 0:00:01\r\u001b[K     |████████████████████▊           | 276 kB 36.6 MB/s eta 0:00:01\r\u001b[K     |█████████████████████▌          | 286 kB 36.6 MB/s eta 0:00:01\r\u001b[K     |██████████████████████▎         | 296 kB 36.6 MB/s eta 0:00:01\r\u001b[K     |███████████████████████         | 307 kB 36.6 MB/s eta 0:00:01\r\u001b[K     |███████████████████████▊        | 317 kB 36.6 MB/s eta 0:00:01\r\u001b[K     |████████████████████████▌       | 327 kB 36.6 MB/s eta 0:00:01\r\u001b[K     |█████████████████████████▎      | 337 kB 36.6 MB/s eta 0:00:01\r\u001b[K     |██████████████████████████      | 348 kB 36.6 MB/s eta 0:00:01\r\u001b[K     |██████████████████████████▉     | 358 kB 36.6 MB/s eta 0:00:01\r\u001b[K     |███████████████████████████▋    | 368 kB 36.6 MB/s eta 0:00:01\r\u001b[K     |████████████████████████████▍   | 378 kB 36.6 MB/s eta 0:00:01\r\u001b[K     |█████████████████████████████▏  | 389 kB 36.6 MB/s eta 0:00:01\r\u001b[K     |█████████████████████████████▉  | 399 kB 36.6 MB/s eta 0:00:01\r\u001b[K     |██████████████████████████████▋ | 409 kB 36.6 MB/s eta 0:00:01\r\u001b[K     |███████████████████████████████▍| 419 kB 36.6 MB/s eta 0:00:01\r\u001b[K     |████████████████████████████████| 427 kB 36.6 MB/s \n",
            "\u001b[?25hRequirement already satisfied: pyyaml in /usr/local/lib/python3.7/dist-packages (from datapackage-pipelines) (3.13)\n",
            "Collecting awesome-slugify\n",
            "  Downloading awesome-slugify-1.6.5.tar.gz (8.4 kB)\n",
            "Collecting tabulator>=1.50.0\n",
            "  Downloading tabulator-1.53.5-py2.py3-none-any.whl (72 kB)\n",
            "\u001b[K     |████████████████████████████████| 72 kB 513 kB/s \n",
            "\u001b[?25hRequirement already satisfied: cachetools in /usr/local/lib/python3.7/dist-packages (from datapackage-pipelines) (4.2.4)\n",
            "Collecting ujson\n",
            "  Downloading ujson-4.2.0-cp37-cp37m-manylinux_2_17_x86_64.manylinux2014_x86_64.whl (214 kB)\n",
            "\u001b[K     |████████████████████████████████| 214 kB 51.0 MB/s \n",
            "\u001b[?25hCollecting werkzeug<1.0\n",
            "  Downloading Werkzeug-0.16.1-py2.py3-none-any.whl (327 kB)\n",
            "\u001b[K     |████████████████████████████████| 327 kB 39.0 MB/s \n",
            "\u001b[?25hRequirement already satisfied: requests in /usr/local/lib/python3.7/dist-packages (from datapackage-pipelines) (2.23.0)\n",
            "Requirement already satisfied: mistune in /usr/local/lib/python3.7/dist-packages (from datapackage-pipelines) (0.8.4)\n",
            "Collecting flask-cors\n",
            "  Downloading Flask_Cors-3.0.10-py2.py3-none-any.whl (14 kB)\n",
            "Requirement already satisfied: flask<2.0.0 in /usr/local/lib/python3.7/dist-packages (from datapackage-pipelines) (1.1.4)\n",
            "Collecting flask-basicauth\n",
            "  Downloading Flask-BasicAuth-0.2.0.tar.gz (16 kB)\n",
            "Collecting datapackage>=1.14.0\n",
            "  Downloading datapackage-1.15.2-py2.py3-none-any.whl (85 kB)\n",
            "\u001b[K     |████████████████████████████████| 85 kB 4.9 MB/s \n",
            "\u001b[?25hCollecting globster>=0.1.0\n",
            "  Downloading globster-0.1.0.tar.gz (14 kB)\n",
            "Collecting flask-jsonpify\n",
            "  Downloading Flask-Jsonpify-1.5.0.tar.gz (3.0 kB)\n",
            "Collecting tableschema>=1.2.5\n",
            "  Downloading tableschema-1.20.2-py2.py3-none-any.whl (68 kB)\n",
            "\u001b[K     |████████████████████████████████| 68 kB 7.0 MB/s \n",
            "\u001b[?25hCollecting python-dateutil<2.8.1\n",
            "  Downloading python_dateutil-2.8.0-py2.py3-none-any.whl (226 kB)\n",
            "\u001b[K     |████████████████████████████████| 226 kB 57.8 MB/s \n",
            "\u001b[?25hCollecting dataflows>=0.2.11\n",
            "  Downloading dataflows-0.3.8-py2.py3-none-any.whl (58 kB)\n",
            "\u001b[K     |████████████████████████████████| 58 kB 5.8 MB/s \n",
            "\u001b[?25hCollecting redis<4,>=3\n",
            "  Downloading redis-3.5.3-py2.py3-none-any.whl (72 kB)\n",
            "\u001b[K     |████████████████████████████████| 72 kB 546 kB/s \n",
            "\u001b[?25hCollecting tableschema-sql>=0.10.4\n",
            "  Downloading tableschema_sql-1.3.2-py2.py3-none-any.whl (12 kB)\n",
            "Requirement already satisfied: pytz>dev in /usr/local/lib/python3.7/dist-packages (from celery<5->datapackage-pipelines) (2018.9)\n",
            "Collecting vine==1.3.0\n",
            "  Downloading vine-1.3.0-py2.py3-none-any.whl (14 kB)\n",
            "Collecting kombu<4.7,>=4.6.10\n",
            "  Downloading kombu-4.6.11-py2.py3-none-any.whl (184 kB)\n",
            "\u001b[K     |████████████████████████████████| 184 kB 36.0 MB/s \n",
            "\u001b[?25hCollecting billiard<4.0,>=3.6.3.0\n",
            "  Downloading billiard-3.6.4.0-py3-none-any.whl (89 kB)\n",
            "\u001b[K     |████████████████████████████████| 89 kB 8.7 MB/s \n",
            "\u001b[?25hRequirement already satisfied: tabulate in /usr/local/lib/python3.7/dist-packages (from dataflows>=0.2.11->datapackage-pipelines) (0.8.9)\n",
            "Collecting xmljson\n",
            "  Downloading xmljson-0.2.1-py2.py3-none-any.whl (10 kB)\n",
            "Collecting bitstring>=3\n",
            "  Downloading bitstring-3.1.9-py3-none-any.whl (38 kB)\n",
            "Collecting inquirer\n",
            "  Downloading inquirer-2.7.0-py2.py3-none-any.whl (31 kB)\n",
            "Collecting kvfile>=0.0.9\n",
            "  Downloading kvfile-0.0.13-py2.py3-none-any.whl (6.5 kB)\n",
            "Requirement already satisfied: openpyxl in /usr/local/lib/python3.7/dist-packages (from dataflows>=0.2.11->datapackage-pipelines) (2.5.9)\n",
            "Requirement already satisfied: jinja2 in /usr/local/lib/python3.7/dist-packages (from dataflows>=0.2.11->datapackage-pipelines) (2.11.3)\n",
            "Requirement already satisfied: jsonschema>=2.5 in /usr/local/lib/python3.7/dist-packages (from datapackage>=1.14.0->datapackage-pipelines) (2.6.0)\n",
            "Requirement already satisfied: chardet>=3.0 in /usr/local/lib/python3.7/dist-packages (from datapackage>=1.14.0->datapackage-pipelines) (3.0.4)\n",
            "Collecting jsonpointer>=1.10\n",
            "  Downloading jsonpointer-2.1-py2.py3-none-any.whl (7.4 kB)\n",
            "Collecting unicodecsv>=0.14\n",
            "  Downloading unicodecsv-0.14.1.tar.gz (10 kB)\n",
            "Requirement already satisfied: six>=1.10 in /usr/local/lib/python3.7/dist-packages (from datapackage>=1.14.0->datapackage-pipelines) (1.15.0)\n",
            "Requirement already satisfied: itsdangerous<2.0,>=0.24 in /usr/local/lib/python3.7/dist-packages (from flask<2.0.0->datapackage-pipelines) (1.1.0)\n",
            "Requirement already satisfied: MarkupSafe>=0.23 in /usr/local/lib/python3.7/dist-packages (from jinja2->dataflows>=0.2.11->datapackage-pipelines) (2.0.1)\n",
            "Collecting amqp<2.7,>=2.6.0\n",
            "  Downloading amqp-2.6.1-py2.py3-none-any.whl (48 kB)\n",
            "\u001b[K     |████████████████████████████████| 48 kB 5.4 MB/s \n",
            "\u001b[?25hRequirement already satisfied: importlib-metadata>=0.18 in /usr/local/lib/python3.7/dist-packages (from kombu<4.7,>=4.6.10->celery<5->datapackage-pipelines) (4.8.1)\n",
            "Requirement already satisfied: zipp>=0.5 in /usr/local/lib/python3.7/dist-packages (from importlib-metadata>=0.18->kombu<4.7,>=4.6.10->celery<5->datapackage-pipelines) (3.6.0)\n",
            "Requirement already satisfied: typing-extensions>=3.6.4 in /usr/local/lib/python3.7/dist-packages (from importlib-metadata>=0.18->kombu<4.7,>=4.6.10->celery<5->datapackage-pipelines) (3.7.4.3)\n",
            "\u001b[33mWARNING: Retrying (Retry(total=4, connect=None, read=None, redirect=None, status=None)) after connection broken by 'ProtocolError('Connection aborted.', ConnectionResetError(104, 'Connection reset by peer'))': /simple/isodate/\u001b[0m\n",
            "Collecting isodate\n",
            "  Downloading isodate-0.6.0-py2.py3-none-any.whl (45 kB)\n",
            "\u001b[K     |████████████████████████████████| 45 kB 3.4 MB/s \n",
            "\u001b[?25hRequirement already satisfied: idna<3,>=2.5 in /usr/local/lib/python3.7/dist-packages (from requests->datapackage-pipelines) (2.10)\n",
            "Requirement already satisfied: certifi>=2017.4.17 in /usr/local/lib/python3.7/dist-packages (from requests->datapackage-pipelines) (2021.5.30)\n",
            "Requirement already satisfied: urllib3!=1.25.0,!=1.25.1,<1.26,>=1.21.1 in /usr/local/lib/python3.7/dist-packages (from requests->datapackage-pipelines) (1.24.3)\n",
            "Collecting rfc3986>=1.1.0\n",
            "  Downloading rfc3986-1.5.0-py2.py3-none-any.whl (31 kB)\n",
            "Requirement already satisfied: cached-property>=1.5 in /usr/local/lib/python3.7/dist-packages (from tableschema>=1.2.5->datapackage-pipelines) (1.5.2)\n",
            "Collecting pybloom-live>=2.2\n",
            "  Downloading pybloom_live-3.1.0.tar.gz (9.8 kB)\n",
            "Requirement already satisfied: sqlalchemy>=1.0 in /usr/local/lib/python3.7/dist-packages (from tableschema-sql>=0.10.4->datapackage-pipelines) (1.4.25)\n",
            "Collecting bitarray>=0.3.4\n",
            "  Downloading bitarray-2.3.4.tar.gz (88 kB)\n",
            "\u001b[K     |████████████████████████████████| 88 kB 7.2 MB/s \n",
            "\u001b[?25hRequirement already satisfied: greenlet!=0.4.17 in /usr/local/lib/python3.7/dist-packages (from sqlalchemy>=1.0->tableschema-sql>=0.10.4->datapackage-pipelines) (1.1.2)\n",
            "Collecting openpyxl\n",
            "  Downloading openpyxl-3.0.9-py2.py3-none-any.whl (242 kB)\n",
            "\u001b[K     |████████████████████████████████| 242 kB 52.7 MB/s \n",
            "\u001b[?25hCollecting linear-tsv>=1.0\n",
            "  Downloading linear-tsv-1.1.0.tar.gz (9.6 kB)\n",
            "Collecting boto3>=1.9\n",
            "  Downloading boto3-1.19.4-py3-none-any.whl (131 kB)\n",
            "\u001b[K     |████████████████████████████████| 131 kB 50.5 MB/s \n",
            "\u001b[?25hCollecting ijson>=3.0.3\n",
            "  Downloading ijson-3.1.4-cp37-cp37m-manylinux2010_x86_64.whl (126 kB)\n",
            "\u001b[K     |████████████████████████████████| 126 kB 55.6 MB/s \n",
            "\u001b[?25hCollecting jsonlines>=1.1\n",
            "  Downloading jsonlines-2.0.0-py3-none-any.whl (6.3 kB)\n",
            "Requirement already satisfied: xlrd>=1.0 in /usr/local/lib/python3.7/dist-packages (from tabulator>=1.50.0->datapackage-pipelines) (1.1.0)\n",
            "Collecting jmespath<1.0.0,>=0.7.1\n",
            "  Downloading jmespath-0.10.0-py2.py3-none-any.whl (24 kB)\n",
            "Collecting botocore<1.23.0,>=1.22.4\n",
            "  Downloading botocore-1.22.4-py3-none-any.whl (8.0 MB)\n",
            "\u001b[K     |████████████████████████████████| 8.0 MB 56.1 MB/s \n",
            "\u001b[?25hCollecting s3transfer<0.6.0,>=0.5.0\n",
            "  Downloading s3transfer-0.5.0-py3-none-any.whl (79 kB)\n",
            "\u001b[K     |████████████████████████████████| 79 kB 8.4 MB/s \n",
            "\u001b[?25hCollecting urllib3!=1.25.0,!=1.25.1,<1.26,>=1.21.1\n",
            "  Downloading urllib3-1.25.11-py2.py3-none-any.whl (127 kB)\n",
            "\u001b[K     |████████████████████████████████| 127 kB 69.3 MB/s \n",
            "\u001b[?25hRequirement already satisfied: et-xmlfile in /usr/local/lib/python3.7/dist-packages (from openpyxl->dataflows>=0.2.11->datapackage-pipelines) (1.1.0)\n",
            "Requirement already satisfied: regex in /usr/local/lib/python3.7/dist-packages (from awesome-slugify->datapackage-pipelines) (2019.12.20)\n",
            "Collecting Unidecode<0.05,>=0.04.14\n",
            "  Downloading Unidecode-0.04.21-py2.py3-none-any.whl (228 kB)\n",
            "\u001b[K     |████████████████████████████████| 228 kB 59.9 MB/s \n",
            "\u001b[?25hCollecting readchar==2.0.1\n",
            "  Downloading readchar-2.0.1-py3-none-any.whl (6.9 kB)\n",
            "Collecting blessed==1.17.6\n",
            "  Downloading blessed-1.17.6-py2.py3-none-any.whl (76 kB)\n",
            "\u001b[K     |████████████████████████████████| 76 kB 5.4 MB/s \n",
            "\u001b[?25hCollecting python-editor==1.0.4\n",
            "  Downloading python_editor-1.0.4-py3-none-any.whl (4.9 kB)\n",
            "Requirement already satisfied: wcwidth>=0.1.4 in /usr/local/lib/python3.7/dist-packages (from blessed==1.17.6->inquirer->dataflows>=0.2.11->datapackage-pipelines) (0.2.5)\n",
            "Building wheels for collected packages: globster, pybloom-live, bitarray, linear-tsv, unicodecsv, awesome-slugify, flask-basicauth, flask-jsonpify\n",
            "  Building wheel for globster (setup.py) ... \u001b[?25l\u001b[?25hdone\n",
            "  Created wheel for globster: filename=globster-0.1.0-py3-none-any.whl size=21687 sha256=e581624800d01c1f40fbf1fd504f124f8d5253a3679bef10c0cf2aa171c30ca1\n",
            "  Stored in directory: /root/.cache/pip/wheels/e5/2a/3f/55ad39f8ee8426b2b39f68ef79d020a60d3acd475f772da9ce\n",
            "  Building wheel for pybloom-live (setup.py) ... \u001b[?25l\u001b[?25hdone\n",
            "  Created wheel for pybloom-live: filename=pybloom_live-3.1.0-py3-none-any.whl size=9200 sha256=4893faa4be652d294e1c3e7f45bc28a7c46d29216854f6e95a353b2a57ee0936\n",
            "  Stored in directory: /root/.cache/pip/wheels/ad/a5/6e/dbe6297eb666e670b0849ff24b8617dc64450eaf64d4336014\n",
            "  Building wheel for bitarray (setup.py) ... \u001b[?25l\u001b[?25hdone\n",
            "  Created wheel for bitarray: filename=bitarray-2.3.4-cp37-cp37m-linux_x86_64.whl size=171953 sha256=9609a4d4e533830a5844d9674a0249204668a43711a559d61664e56ebff65774\n",
            "  Stored in directory: /root/.cache/pip/wheels/84/cc/5b/0e861bdb5294d22d2d4f595df936f964a95258387e11494d41\n",
            "  Building wheel for linear-tsv (setup.py) ... \u001b[?25l\u001b[?25hdone\n",
            "  Created wheel for linear-tsv: filename=linear_tsv-1.1.0-py3-none-any.whl size=7399 sha256=25b2787fc04a3b898f78e3a088c037d01487ffbaed615e278839348326a54156\n",
            "  Stored in directory: /root/.cache/pip/wheels/dd/0a/62/49ee84fab92057fb3e303fb1a59e75ccac6899b417f441305a\n",
            "  Building wheel for unicodecsv (setup.py) ... \u001b[?25l\u001b[?25hdone\n",
            "  Created wheel for unicodecsv: filename=unicodecsv-0.14.1-py3-none-any.whl size=10765 sha256=a905af7911d901564d2bcf3ee5a7820365ab9b1acfb25ab0b08733ad4adf5abf\n",
            "  Stored in directory: /root/.cache/pip/wheels/1a/f4/8a/a5024fb77b32ed369e5c409081e5f00fbe3b92fdad653f6e69\n",
            "  Building wheel for awesome-slugify (setup.py) ... \u001b[?25l\u001b[?25hdone\n",
            "  Created wheel for awesome-slugify: filename=awesome_slugify-1.6.5-py3-none-any.whl size=8350 sha256=b2aaed41b7abc950cfbdec9901df343932a6e4a5c970e673211478338c85ffb2\n",
            "  Stored in directory: /root/.cache/pip/wheels/b3/66/bb/6379b15148128db97f0b59708ba1d767bf751a86ddf0c8e479\n",
            "  Building wheel for flask-basicauth (setup.py) ... \u001b[?25l\u001b[?25hdone\n",
            "  Created wheel for flask-basicauth: filename=Flask_BasicAuth-0.2.0-py3-none-any.whl size=4243 sha256=2bc40c0cdc70b690e3bd16113c7bc17cdf3eed5249e7b651469f489823934562\n",
            "  Stored in directory: /root/.cache/pip/wheels/d5/08/a3/19638d90fdf01258ede772449bcbde424839459749acb977b6\n",
            "  Building wheel for flask-jsonpify (setup.py) ... \u001b[?25l\u001b[?25hdone\n",
            "  Created wheel for flask-jsonpify: filename=Flask_Jsonpify-1.5.0-py3-none-any.whl size=3082 sha256=e4a004d79c3ce84ee9c73c36b3d9a64c7a962f43ae40926bb45f56f803ec5214\n",
            "  Stored in directory: /root/.cache/pip/wheels/df/63/53/55125b71355f952b011afbf0a7f7bb823aa576d06845b2c298\n",
            "Successfully built globster pybloom-live bitarray linear-tsv unicodecsv awesome-slugify flask-basicauth flask-jsonpify\n",
            "Installing collected packages: urllib3, python-dateutil, jmespath, botocore, s3transfer, unicodecsv, openpyxl, linear-tsv, jsonlines, ijson, boto3, vine, tabulator, rfc3986, isodate, bitarray, werkzeug, Unidecode, tableschema, readchar, python-editor, pybloom-live, jsonpointer, blessed, amqp, xmljson, tableschema-sql, kvfile, kombu, inquirer, datapackage, bitstring, billiard, awesome-slugify, ujson, redis, globster, flask-jsonpify, flask-cors, flask-basicauth, dataflows, celery, datapackage-pipelines\n",
            "  Attempting uninstall: urllib3\n",
            "    Found existing installation: urllib3 1.24.3\n",
            "    Uninstalling urllib3-1.24.3:\n",
            "      Successfully uninstalled urllib3-1.24.3\n",
            "  Attempting uninstall: python-dateutil\n",
            "    Found existing installation: python-dateutil 2.8.2\n",
            "    Uninstalling python-dateutil-2.8.2:\n",
            "      Successfully uninstalled python-dateutil-2.8.2\n",
            "  Attempting uninstall: openpyxl\n",
            "    Found existing installation: openpyxl 2.5.9\n",
            "    Uninstalling openpyxl-2.5.9:\n",
            "      Successfully uninstalled openpyxl-2.5.9\n",
            "  Attempting uninstall: werkzeug\n",
            "    Found existing installation: Werkzeug 1.0.1\n",
            "    Uninstalling Werkzeug-1.0.1:\n",
            "      Successfully uninstalled Werkzeug-1.0.1\n",
            "\u001b[31mERROR: pip's dependency resolver does not currently take into account all the packages that are installed. This behaviour is the source of the following dependency conflicts.\n",
            "datascience 0.10.6 requires folium==0.2.1, but you have folium 0.8.3 which is incompatible.\n",
            "albumentations 0.1.12 requires imgaug<0.2.7,>=0.2.5, but you have imgaug 0.2.9 which is incompatible.\u001b[0m\n",
            "Successfully installed Unidecode-0.4.21 amqp-2.6.1 awesome-slugify-1.6.5 billiard-3.6.4.0 bitarray-2.3.4 bitstring-3.1.9 blessed-1.17.6 boto3-1.19.4 botocore-1.22.4 celery-4.4.7 dataflows-0.3.8 datapackage-1.15.2 datapackage-pipelines-2.2.9 flask-basicauth-0.2.0 flask-cors-3.0.10 flask-jsonpify-1.5.0 globster-0.1.0 ijson-3.1.4 inquirer-2.7.0 isodate-0.6.0 jmespath-0.10.0 jsonlines-2.0.0 jsonpointer-2.1 kombu-4.6.11 kvfile-0.0.13 linear-tsv-1.1.0 openpyxl-3.0.9 pybloom-live-3.1.0 python-dateutil-2.8.0 python-editor-1.0.4 readchar-2.0.1 redis-3.5.3 rfc3986-1.5.0 s3transfer-0.5.0 tableschema-1.20.2 tableschema-sql-1.3.2 tabulator-1.53.5 ujson-4.2.0 unicodecsv-0.14.1 urllib3-1.25.11 vine-1.3.0 werkzeug-0.16.1 xmljson-0.2.1\n"
          ]
        },
        {
          "output_type": "display_data",
          "data": {
            "application/vnd.colab-display-data+json": {
              "pip_warning": {
                "packages": [
                  "dateutil"
                ]
              }
            }
          },
          "metadata": {}
        }
      ]
    },
    {
      "cell_type": "code",
      "metadata": {
        "colab": {
          "base_uri": "https://localhost:8080/"
        },
        "id": "SeJPKYUjMy_I",
        "outputId": "7246b25e-acd5-4609-f919-6ad1ba5fcc27"
      },
      "source": [
        "!pip install datapackage-pipelines-fiscal"
      ],
      "execution_count": 1,
      "outputs": [
        {
          "output_type": "stream",
          "name": "stdout",
          "text": [
            "Collecting datapackage-pipelines-fiscal\n",
            "  Downloading datapackage_pipelines_fiscal-1.2.7-py2.py3-none-any.whl (24 kB)\n",
            "Requirement already satisfied: six>=1.9 in /usr/local/lib/python3.7/dist-packages (from datapackage-pipelines-fiscal) (1.15.0)\n",
            "Requirement already satisfied: datapackage-pipelines<3,>=2.0.0 in /usr/local/lib/python3.7/dist-packages (from datapackage-pipelines-fiscal) (2.2.9)\n",
            "Collecting datapackage-pipelines-aws\n",
            "  Downloading datapackage-pipelines-aws-0.0.23.tar.gz (6.3 kB)\n",
            "Collecting os-package-registry>=0.0.19\n",
            "  Downloading os_package_registry-0.0.21-py2.py3-none-any.whl (5.5 kB)\n",
            "Requirement already satisfied: datapackage>=1.0.2 in /usr/local/lib/python3.7/dist-packages (from datapackage-pipelines-fiscal) (1.15.2)\n",
            "Requirement already satisfied: tabulator>=1.29 in /usr/local/lib/python3.7/dist-packages (from datapackage>=1.0.2->datapackage-pipelines-fiscal) (1.53.5)\n",
            "Requirement already satisfied: click>=6.7 in /usr/local/lib/python3.7/dist-packages (from datapackage>=1.0.2->datapackage-pipelines-fiscal) (7.1.2)\n",
            "Requirement already satisfied: jsonschema>=2.5 in /usr/local/lib/python3.7/dist-packages (from datapackage>=1.0.2->datapackage-pipelines-fiscal) (2.6.0)\n",
            "Requirement already satisfied: jsonpointer>=1.10 in /usr/local/lib/python3.7/dist-packages (from datapackage>=1.0.2->datapackage-pipelines-fiscal) (2.1)\n",
            "Requirement already satisfied: unicodecsv>=0.14 in /usr/local/lib/python3.7/dist-packages (from datapackage>=1.0.2->datapackage-pipelines-fiscal) (0.14.1)\n",
            "Requirement already satisfied: tableschema>=1.12.1 in /usr/local/lib/python3.7/dist-packages (from datapackage>=1.0.2->datapackage-pipelines-fiscal) (1.20.2)\n",
            "Requirement already satisfied: chardet>=3.0 in /usr/local/lib/python3.7/dist-packages (from datapackage>=1.0.2->datapackage-pipelines-fiscal) (3.0.4)\n",
            "Requirement already satisfied: requests>=2.8 in /usr/local/lib/python3.7/dist-packages (from datapackage>=1.0.2->datapackage-pipelines-fiscal) (2.23.0)\n",
            "Requirement already satisfied: flask-jsonpify in /usr/local/lib/python3.7/dist-packages (from datapackage-pipelines<3,>=2.0.0->datapackage-pipelines-fiscal) (1.5.0)\n",
            "Requirement already satisfied: globster>=0.1.0 in /usr/local/lib/python3.7/dist-packages (from datapackage-pipelines<3,>=2.0.0->datapackage-pipelines-fiscal) (0.1.0)\n",
            "Requirement already satisfied: python-dateutil<2.8.1 in /usr/local/lib/python3.7/dist-packages (from datapackage-pipelines<3,>=2.0.0->datapackage-pipelines-fiscal) (2.8.0)\n",
            "Requirement already satisfied: awesome-slugify in /usr/local/lib/python3.7/dist-packages (from datapackage-pipelines<3,>=2.0.0->datapackage-pipelines-fiscal) (1.6.5)\n",
            "Requirement already satisfied: cachetools in /usr/local/lib/python3.7/dist-packages (from datapackage-pipelines<3,>=2.0.0->datapackage-pipelines-fiscal) (4.2.4)\n",
            "Requirement already satisfied: celery<5 in /usr/local/lib/python3.7/dist-packages (from datapackage-pipelines<3,>=2.0.0->datapackage-pipelines-fiscal) (4.4.7)\n",
            "Requirement already satisfied: werkzeug<1.0 in /usr/local/lib/python3.7/dist-packages (from datapackage-pipelines<3,>=2.0.0->datapackage-pipelines-fiscal) (0.16.1)\n",
            "Requirement already satisfied: ujson in /usr/local/lib/python3.7/dist-packages (from datapackage-pipelines<3,>=2.0.0->datapackage-pipelines-fiscal) (4.2.0)\n",
            "Requirement already satisfied: mistune in /usr/local/lib/python3.7/dist-packages (from datapackage-pipelines<3,>=2.0.0->datapackage-pipelines-fiscal) (0.8.4)\n",
            "Requirement already satisfied: flask-basicauth in /usr/local/lib/python3.7/dist-packages (from datapackage-pipelines<3,>=2.0.0->datapackage-pipelines-fiscal) (0.2.0)\n",
            "Requirement already satisfied: flask<2.0.0 in /usr/local/lib/python3.7/dist-packages (from datapackage-pipelines<3,>=2.0.0->datapackage-pipelines-fiscal) (1.1.4)\n",
            "Requirement already satisfied: dataflows>=0.2.11 in /usr/local/lib/python3.7/dist-packages (from datapackage-pipelines<3,>=2.0.0->datapackage-pipelines-fiscal) (0.3.8)\n",
            "Requirement already satisfied: pyyaml in /usr/local/lib/python3.7/dist-packages (from datapackage-pipelines<3,>=2.0.0->datapackage-pipelines-fiscal) (3.13)\n",
            "Requirement already satisfied: redis<4,>=3 in /usr/local/lib/python3.7/dist-packages (from datapackage-pipelines<3,>=2.0.0->datapackage-pipelines-fiscal) (3.5.3)\n",
            "Requirement already satisfied: flask-cors in /usr/local/lib/python3.7/dist-packages (from datapackage-pipelines<3,>=2.0.0->datapackage-pipelines-fiscal) (3.0.10)\n",
            "Requirement already satisfied: tableschema-sql>=0.10.4 in /usr/local/lib/python3.7/dist-packages (from datapackage-pipelines<3,>=2.0.0->datapackage-pipelines-fiscal) (1.3.2)\n",
            "Requirement already satisfied: vine==1.3.0 in /usr/local/lib/python3.7/dist-packages (from celery<5->datapackage-pipelines<3,>=2.0.0->datapackage-pipelines-fiscal) (1.3.0)\n",
            "Requirement already satisfied: kombu<4.7,>=4.6.10 in /usr/local/lib/python3.7/dist-packages (from celery<5->datapackage-pipelines<3,>=2.0.0->datapackage-pipelines-fiscal) (4.6.11)\n",
            "Requirement already satisfied: billiard<4.0,>=3.6.3.0 in /usr/local/lib/python3.7/dist-packages (from celery<5->datapackage-pipelines<3,>=2.0.0->datapackage-pipelines-fiscal) (3.6.4.0)\n",
            "Requirement already satisfied: pytz>dev in /usr/local/lib/python3.7/dist-packages (from celery<5->datapackage-pipelines<3,>=2.0.0->datapackage-pipelines-fiscal) (2018.9)\n",
            "Requirement already satisfied: inquirer in /usr/local/lib/python3.7/dist-packages (from dataflows>=0.2.11->datapackage-pipelines<3,>=2.0.0->datapackage-pipelines-fiscal) (2.7.0)\n",
            "Requirement already satisfied: bitstring>=3 in /usr/local/lib/python3.7/dist-packages (from dataflows>=0.2.11->datapackage-pipelines<3,>=2.0.0->datapackage-pipelines-fiscal) (3.1.9)\n",
            "Requirement already satisfied: openpyxl in /usr/local/lib/python3.7/dist-packages (from dataflows>=0.2.11->datapackage-pipelines<3,>=2.0.0->datapackage-pipelines-fiscal) (3.0.9)\n",
            "Requirement already satisfied: xmljson in /usr/local/lib/python3.7/dist-packages (from dataflows>=0.2.11->datapackage-pipelines<3,>=2.0.0->datapackage-pipelines-fiscal) (0.2.1)\n",
            "Requirement already satisfied: jinja2 in /usr/local/lib/python3.7/dist-packages (from dataflows>=0.2.11->datapackage-pipelines<3,>=2.0.0->datapackage-pipelines-fiscal) (2.11.3)\n",
            "Requirement already satisfied: tabulate in /usr/local/lib/python3.7/dist-packages (from dataflows>=0.2.11->datapackage-pipelines<3,>=2.0.0->datapackage-pipelines-fiscal) (0.8.9)\n",
            "Requirement already satisfied: kvfile>=0.0.9 in /usr/local/lib/python3.7/dist-packages (from dataflows>=0.2.11->datapackage-pipelines<3,>=2.0.0->datapackage-pipelines-fiscal) (0.0.13)\n",
            "Requirement already satisfied: itsdangerous<2.0,>=0.24 in /usr/local/lib/python3.7/dist-packages (from flask<2.0.0->datapackage-pipelines<3,>=2.0.0->datapackage-pipelines-fiscal) (1.1.0)\n",
            "Requirement already satisfied: MarkupSafe>=0.23 in /usr/local/lib/python3.7/dist-packages (from jinja2->dataflows>=0.2.11->datapackage-pipelines<3,>=2.0.0->datapackage-pipelines-fiscal) (2.0.1)\n",
            "Requirement already satisfied: amqp<2.7,>=2.6.0 in /usr/local/lib/python3.7/dist-packages (from kombu<4.7,>=4.6.10->celery<5->datapackage-pipelines<3,>=2.0.0->datapackage-pipelines-fiscal) (2.6.1)\n",
            "Requirement already satisfied: importlib-metadata>=0.18 in /usr/local/lib/python3.7/dist-packages (from kombu<4.7,>=4.6.10->celery<5->datapackage-pipelines<3,>=2.0.0->datapackage-pipelines-fiscal) (4.8.1)\n",
            "Requirement already satisfied: typing-extensions>=3.6.4 in /usr/local/lib/python3.7/dist-packages (from importlib-metadata>=0.18->kombu<4.7,>=4.6.10->celery<5->datapackage-pipelines<3,>=2.0.0->datapackage-pipelines-fiscal) (3.7.4.3)\n",
            "Requirement already satisfied: zipp>=0.5 in /usr/local/lib/python3.7/dist-packages (from importlib-metadata>=0.18->kombu<4.7,>=4.6.10->celery<5->datapackage-pipelines<3,>=2.0.0->datapackage-pipelines-fiscal) (3.6.0)\n",
            "Requirement already satisfied: isodate in /usr/local/lib/python3.7/dist-packages (from kvfile>=0.0.9->dataflows>=0.2.11->datapackage-pipelines<3,>=2.0.0->datapackage-pipelines-fiscal) (0.6.0)\n",
            "Collecting os-api-cache>=0.0.7\n",
            "  Downloading os_api_cache-0.0.7-py2.py3-none-any.whl (4.5 kB)\n",
            "Collecting elasticsearch<6.0.0,>=5.0.0\n",
            "  Downloading elasticsearch-5.5.3-py2.py3-none-any.whl (119 kB)\n",
            "\u001b[K     |████████████████████████████████| 119 kB 62.4 MB/s \n",
            "\u001b[?25hRequirement already satisfied: urllib3>=1.21.1 in /usr/local/lib/python3.7/dist-packages (from elasticsearch<6.0.0,>=5.0.0->os-package-registry>=0.0.19->datapackage-pipelines-fiscal) (1.25.11)\n",
            "Requirement already satisfied: idna<3,>=2.5 in /usr/local/lib/python3.7/dist-packages (from requests>=2.8->datapackage>=1.0.2->datapackage-pipelines-fiscal) (2.10)\n",
            "Requirement already satisfied: certifi>=2017.4.17 in /usr/local/lib/python3.7/dist-packages (from requests>=2.8->datapackage>=1.0.2->datapackage-pipelines-fiscal) (2021.5.30)\n",
            "Requirement already satisfied: rfc3986>=1.1.0 in /usr/local/lib/python3.7/dist-packages (from tableschema>=1.12.1->datapackage>=1.0.2->datapackage-pipelines-fiscal) (1.5.0)\n",
            "Requirement already satisfied: cached-property>=1.5 in /usr/local/lib/python3.7/dist-packages (from tableschema>=1.12.1->datapackage>=1.0.2->datapackage-pipelines-fiscal) (1.5.2)\n",
            "Requirement already satisfied: pybloom-live>=2.2 in /usr/local/lib/python3.7/dist-packages (from tableschema-sql>=0.10.4->datapackage-pipelines<3,>=2.0.0->datapackage-pipelines-fiscal) (3.1.0)\n",
            "Requirement already satisfied: sqlalchemy>=1.0 in /usr/local/lib/python3.7/dist-packages (from tableschema-sql>=0.10.4->datapackage-pipelines<3,>=2.0.0->datapackage-pipelines-fiscal) (1.4.25)\n",
            "Requirement already satisfied: bitarray>=0.3.4 in /usr/local/lib/python3.7/dist-packages (from pybloom-live>=2.2->tableschema-sql>=0.10.4->datapackage-pipelines<3,>=2.0.0->datapackage-pipelines-fiscal) (2.3.4)\n",
            "Requirement already satisfied: greenlet!=0.4.17 in /usr/local/lib/python3.7/dist-packages (from sqlalchemy>=1.0->tableschema-sql>=0.10.4->datapackage-pipelines<3,>=2.0.0->datapackage-pipelines-fiscal) (1.1.2)\n",
            "Requirement already satisfied: jsonlines>=1.1 in /usr/local/lib/python3.7/dist-packages (from tabulator>=1.29->datapackage>=1.0.2->datapackage-pipelines-fiscal) (2.0.0)\n",
            "Requirement already satisfied: boto3>=1.9 in /usr/local/lib/python3.7/dist-packages (from tabulator>=1.29->datapackage>=1.0.2->datapackage-pipelines-fiscal) (1.19.4)\n",
            "Requirement already satisfied: xlrd>=1.0 in /usr/local/lib/python3.7/dist-packages (from tabulator>=1.29->datapackage>=1.0.2->datapackage-pipelines-fiscal) (1.1.0)\n",
            "Requirement already satisfied: linear-tsv>=1.0 in /usr/local/lib/python3.7/dist-packages (from tabulator>=1.29->datapackage>=1.0.2->datapackage-pipelines-fiscal) (1.1.0)\n",
            "Requirement already satisfied: ijson>=3.0.3 in /usr/local/lib/python3.7/dist-packages (from tabulator>=1.29->datapackage>=1.0.2->datapackage-pipelines-fiscal) (3.1.4)\n",
            "Requirement already satisfied: s3transfer<0.6.0,>=0.5.0 in /usr/local/lib/python3.7/dist-packages (from boto3>=1.9->tabulator>=1.29->datapackage>=1.0.2->datapackage-pipelines-fiscal) (0.5.0)\n",
            "Requirement already satisfied: jmespath<1.0.0,>=0.7.1 in /usr/local/lib/python3.7/dist-packages (from boto3>=1.9->tabulator>=1.29->datapackage>=1.0.2->datapackage-pipelines-fiscal) (0.10.0)\n",
            "Requirement already satisfied: botocore<1.23.0,>=1.22.4 in /usr/local/lib/python3.7/dist-packages (from boto3>=1.9->tabulator>=1.29->datapackage>=1.0.2->datapackage-pipelines-fiscal) (1.22.4)\n",
            "Requirement already satisfied: et-xmlfile in /usr/local/lib/python3.7/dist-packages (from openpyxl->dataflows>=0.2.11->datapackage-pipelines<3,>=2.0.0->datapackage-pipelines-fiscal) (1.1.0)\n",
            "Requirement already satisfied: regex in /usr/local/lib/python3.7/dist-packages (from awesome-slugify->datapackage-pipelines<3,>=2.0.0->datapackage-pipelines-fiscal) (2019.12.20)\n",
            "Requirement already satisfied: Unidecode<0.05,>=0.04.14 in /usr/local/lib/python3.7/dist-packages (from awesome-slugify->datapackage-pipelines<3,>=2.0.0->datapackage-pipelines-fiscal) (0.4.21)\n",
            "Requirement already satisfied: python-editor==1.0.4 in /usr/local/lib/python3.7/dist-packages (from inquirer->dataflows>=0.2.11->datapackage-pipelines<3,>=2.0.0->datapackage-pipelines-fiscal) (1.0.4)\n",
            "Requirement already satisfied: blessed==1.17.6 in /usr/local/lib/python3.7/dist-packages (from inquirer->dataflows>=0.2.11->datapackage-pipelines<3,>=2.0.0->datapackage-pipelines-fiscal) (1.17.6)\n",
            "Requirement already satisfied: readchar==2.0.1 in /usr/local/lib/python3.7/dist-packages (from inquirer->dataflows>=0.2.11->datapackage-pipelines<3,>=2.0.0->datapackage-pipelines-fiscal) (2.0.1)\n",
            "Requirement already satisfied: wcwidth>=0.1.4 in /usr/local/lib/python3.7/dist-packages (from blessed==1.17.6->inquirer->dataflows>=0.2.11->datapackage-pipelines<3,>=2.0.0->datapackage-pipelines-fiscal) (0.2.5)\n",
            "Building wheels for collected packages: datapackage-pipelines-aws\n",
            "  Building wheel for datapackage-pipelines-aws (setup.py) ... \u001b[?25l\u001b[?25hdone\n",
            "  Created wheel for datapackage-pipelines-aws: filename=datapackage_pipelines_aws-0.0.23-py2.py3-none-any.whl size=6805 sha256=48d08ae89a2e22bae6e799e7957116e433b3b30360bb745f76d2f9e2ac539773\n",
            "  Stored in directory: /root/.cache/pip/wheels/dd/41/30/86d4c53dd8c9b66a31758054bc979d9a72fd853ce4db87ed5a\n",
            "Successfully built datapackage-pipelines-aws\n",
            "Installing collected packages: os-api-cache, elasticsearch, os-package-registry, datapackage-pipelines-aws, datapackage-pipelines-fiscal\n",
            "Successfully installed datapackage-pipelines-aws-0.0.23 datapackage-pipelines-fiscal-1.2.7 elasticsearch-5.5.3 os-api-cache-0.0.7 os-package-registry-0.0.21\n"
          ]
        }
      ]
    },
    {
      "cell_type": "code",
      "metadata": {
        "colab": {
          "base_uri": "https://localhost:8080/"
        },
        "id": "pg3ELxMrWIMv",
        "outputId": "b164e84b-2d30-4daa-e11a-65d8cd50df93"
      },
      "source": [
        "!echo $DPP_DB_ENGINE='22222'"
      ],
      "execution_count": 2,
      "outputs": [
        {
          "output_type": "stream",
          "name": "stdout",
          "text": [
            "=22222\n"
          ]
        }
      ]
    },
    {
      "cell_type": "code",
      "metadata": {
        "id": "A_udcisZTxsh"
      },
      "source": [
        "#encoding: utf8\n",
        "import os\n",
        "import csv\n",
        "import gzip\n",
        "import sys\n",
        "from datapackage_pipelines.wrapper import ingest, spew\n",
        "import json\n",
        "import copy\n",
        "from datapackage_pipelines.generators import slugify"
      ],
      "execution_count": 7,
      "outputs": []
    },
    {
      "cell_type": "code",
      "metadata": {
        "id": "hPEUcZ78UC1R"
      },
      "source": [
        "## Load datapackage\n",
        "datapackage = json.load(open('mexico.json'))"
      ],
      "execution_count": 4,
      "outputs": []
    },
    {
      "cell_type": "code",
      "metadata": {
        "id": "jBO-npyaXtf7"
      },
      "source": [
        "resources = datapackage.get('resources', [])\n",
        "original_resources = copy.deepcopy(resources)"
      ],
      "execution_count": 5,
      "outputs": []
    },
    {
      "cell_type": "code",
      "metadata": {
        "colab": {
          "base_uri": "https://localhost:8080/",
          "height": 232
        },
        "id": "mmmvICt2UFwG",
        "outputId": "b5dcf7d2-2c0c-4985-a0cb-dd6441524fe4"
      },
      "source": [
        "for data_source in resources[0]['sources']:\n",
        "    if data_source['url'].endswith('.csv'):\n",
        "      print(data_source['mediatype'])\n",
        "        # data_source['mediatype'] = 'text/csv'\n",
        "    # if 'name' not in data_source:\n",
        "    #     data_source['name'] = slugify(\n",
        "    #         os.path.basename(data_source['url']),\n",
        "    #         separator='_'\n",
        "    #     ).lower()"
      ],
      "execution_count": 10,
      "outputs": [
        {
          "output_type": "error",
          "ename": "TypeError",
          "evalue": "ignored",
          "traceback": [
            "\u001b[0;31m---------------------------------------------------------------------------\u001b[0m",
            "\u001b[0;31mTypeError\u001b[0m                                 Traceback (most recent call last)",
            "\u001b[0;32m<ipython-input-10-553faddc73aa>\u001b[0m in \u001b[0;36m<module>\u001b[0;34m()\u001b[0m\n\u001b[0;32m----> 1\u001b[0;31m \u001b[0;32mfor\u001b[0m \u001b[0mdata_source\u001b[0m \u001b[0;32min\u001b[0m \u001b[0mresources\u001b[0m\u001b[0;34m[\u001b[0m\u001b[0;34m'sources'\u001b[0m\u001b[0;34m]\u001b[0m\u001b[0;34m:\u001b[0m\u001b[0;34m\u001b[0m\u001b[0;34m\u001b[0m\u001b[0m\n\u001b[0m\u001b[1;32m      2\u001b[0m     \u001b[0;32mif\u001b[0m \u001b[0mdata_source\u001b[0m\u001b[0;34m[\u001b[0m\u001b[0;34m'url'\u001b[0m\u001b[0;34m]\u001b[0m\u001b[0;34m.\u001b[0m\u001b[0mendswith\u001b[0m\u001b[0;34m(\u001b[0m\u001b[0;34m'.csv'\u001b[0m\u001b[0;34m)\u001b[0m\u001b[0;34m:\u001b[0m\u001b[0;34m\u001b[0m\u001b[0;34m\u001b[0m\u001b[0m\n\u001b[1;32m      3\u001b[0m       \u001b[0mprint\u001b[0m\u001b[0;34m(\u001b[0m\u001b[0mdata_source\u001b[0m\u001b[0;34m[\u001b[0m\u001b[0;34m'mediatype'\u001b[0m\u001b[0;34m]\u001b[0m\u001b[0;34m)\u001b[0m\u001b[0;34m\u001b[0m\u001b[0;34m\u001b[0m\u001b[0m\n\u001b[1;32m      4\u001b[0m         \u001b[0;31m# data_source['mediatype'] = 'text/csv'\u001b[0m\u001b[0;34m\u001b[0m\u001b[0;34m\u001b[0m\u001b[0;34m\u001b[0m\u001b[0m\n\u001b[1;32m      5\u001b[0m     \u001b[0;31m# if 'name' not in data_source:\u001b[0m\u001b[0;34m\u001b[0m\u001b[0;34m\u001b[0m\u001b[0;34m\u001b[0m\u001b[0m\n",
            "\u001b[0;31mTypeError\u001b[0m: list indices must be integers or slices, not str"
          ]
        }
      ]
    },
    {
      "cell_type": "code",
      "metadata": {
        "colab": {
          "base_uri": "https://localhost:8080/",
          "height": 164
        },
        "id": "8Vp8fWtkUOec",
        "outputId": "d6a31128-589b-4ae9-9c17-d4e2bc3cdffc"
      },
      "source": [
        "resources[0][\"sources\"]"
      ],
      "execution_count": 11,
      "outputs": [
        {
          "output_type": "error",
          "ename": "KeyError",
          "evalue": "ignored",
          "traceback": [
            "\u001b[0;31m---------------------------------------------------------------------------\u001b[0m",
            "\u001b[0;31mKeyError\u001b[0m                                  Traceback (most recent call last)",
            "\u001b[0;32m<ipython-input-11-3d4c2a876a74>\u001b[0m in \u001b[0;36m<module>\u001b[0;34m()\u001b[0m\n\u001b[0;32m----> 1\u001b[0;31m \u001b[0mresources\u001b[0m\u001b[0;34m[\u001b[0m\u001b[0;36m0\u001b[0m\u001b[0;34m]\u001b[0m\u001b[0;34m[\u001b[0m\u001b[0;34m\"sources\"\u001b[0m\u001b[0;34m]\u001b[0m\u001b[0;34m\u001b[0m\u001b[0;34m\u001b[0m\u001b[0m\n\u001b[0m",
            "\u001b[0;31mKeyError\u001b[0m: 'sources'"
          ]
        }
      ]
    },
    {
      "cell_type": "code",
      "metadata": {
        "id": "QKXkRUopXfCa"
      },
      "source": [
        "from hashlib import md5\n",
        "\n",
        "from slugify import Slugify\n",
        "\n",
        "\n",
        "slugger = Slugify(separator=\"_\", safe_chars=\"-.\")"
      ],
      "execution_count": 13,
      "outputs": []
    },
    {
      "cell_type": "code",
      "metadata": {
        "id": "SMecEPSrX0-E"
      },
      "source": [
        "title1 = \"mexico\"\n",
        "owner_id1 = \"R_kgDOGLhFbw\""
      ],
      "execution_count": 18,
      "outputs": []
    },
    {
      "cell_type": "code",
      "metadata": {
        "id": "aKclBoN9Xc6g"
      },
      "source": [
        "def extract_names(source):\n",
        "    title = source['title']\n",
        "    dataset_name = source.get('name', title)\n",
        "    dataset_name = slugger(dataset_name).lower()\n",
        "    resource_name = source.get('resource-name', dataset_name)\n",
        "\n",
        "    return title, dataset_name, resource_name\n",
        "\n",
        "\n",
        "def extract_storage_ids(source):\n",
        "    owner_id = source['id']\n",
        "    _, dataset_name, _ = extract_names(source)\n",
        "    dataset_id = '{}:{}'.format(owner_id, dataset_name)\n",
        "    dataset_path = '{}/{}'.format(owner_id, dataset_name)\n",
        "    dataset_name_hash = md5(dataset_name.encode('ascii')).hexdigest()[:16]\n",
        "    db_table = '{}{}'.format(owner_id, dataset_name_hash)\n",
        "    return dataset_id, db_table, dataset_path"
      ],
      "execution_count": 19,
      "outputs": []
    },
    {
      "cell_type": "code",
      "metadata": {
        "colab": {
          "base_uri": "https://localhost:8080/"
        },
        "id": "-CGDqMMkrUw7",
        "outputId": "47574e4d-60ef-402e-b380-8f7cafc05033"
      },
      "source": [
        "for source in resources[:1]:\n",
        " print(extract_storage_ids(source))"
      ],
      "execution_count": 22,
      "outputs": [
        {
          "output_type": "stream",
          "name": "stdout",
          "text": [
            "('R_kgDOGLhFbw:presupuesto_mexico_2008.csv', 'R_kgDOGLhFbwf315a4b82f491b09', 'R_kgDOGLhFbw/presupuesto_mexico_2008.csv')\n"
          ]
        }
      ]
    },
    {
      "cell_type": "code",
      "metadata": {
        "colab": {
          "base_uri": "https://localhost:8080/"
        },
        "id": "B7FSJIdorcYl",
        "outputId": "dd478585-786d-47b6-c98c-b3bd7900cfa8"
      },
      "source": [
        "for source in resources[:1]:\n",
        "  title, dataset_name, resource_name = extract_names(source)\n",
        "  dataset_id, db_table, _ = extract_storage_ids(source)\n",
        "\n",
        "  print(dataset_id,db_table)\n"
      ],
      "execution_count": 30,
      "outputs": [
        {
          "output_type": "stream",
          "name": "stdout",
          "text": [
            "R_kgDOGLhFbw:presupuesto_mexico_2008.csv R_kgDOGLhFbwf315a4b82f491b09\n"
          ]
        }
      ]
    },
    {
      "cell_type": "code",
      "metadata": {
        "colab": {
          "base_uri": "https://localhost:8080/"
        },
        "id": "Oa9-UxozrL1w",
        "outputId": "c3556d08-653b-449f-88b9-603c016ac4fa"
      },
      "source": [
        "extract_storage_ids(datapackage)"
      ],
      "execution_count": 35,
      "outputs": [
        {
          "output_type": "execute_result",
          "data": {
            "text/plain": [
              "('R_kgDOGLhFbw:mexico', 'R_kgDOGLhFbw4edfc924721abb77', 'R_kgDOGLhFbw/mexico')"
            ]
          },
          "metadata": {},
          "execution_count": 35
        }
      ]
    },
    {
      "cell_type": "code",
      "metadata": {
        "id": "e36DgHbXy5Ln"
      },
      "source": [
        "field_types = dict((x['slug'], x['type'])\n",
        "                       for x in datapackage['resources'][-1]['schema']['fields'])"
      ],
      "execution_count": 37,
      "outputs": []
    },
    {
      "cell_type": "code",
      "metadata": {
        "colab": {
          "base_uri": "https://localhost:8080/"
        },
        "id": "2amUSNhX7fDH",
        "outputId": "ef31094e-025e-4d2f-e5c7-9e4da8feaead"
      },
      "source": [
        "field_types"
      ],
      "execution_count": 38,
      "outputs": [
        {
          "output_type": "execute_result",
          "data": {
            "text/plain": [
              "{'CICLO': 'integer',\n",
              " 'DESC_AI': 'string',\n",
              " 'DESC_CAPITULO': 'string',\n",
              " 'DESC_CONCEPTO': 'string',\n",
              " 'DESC_FF': 'string',\n",
              " 'DESC_FUNCION': 'string',\n",
              " 'DESC_GPO_FUNCIONAL': 'string',\n",
              " 'DESC_MODALIDAD': 'string',\n",
              " 'DESC_PARTIDA_ESPECIFICA': 'string',\n",
              " 'DESC_PARTIDA_GENERICA': 'string',\n",
              " 'DESC_PP': 'string',\n",
              " 'DESC_RAMO': 'string',\n",
              " 'DESC_SUBFUNCION': 'string',\n",
              " 'DESC_TIPOGASTO': 'string',\n",
              " 'DESC_UR': 'string',\n",
              " 'ENTIDAD_FEDERATIVA': 'string',\n",
              " 'GPO_FUNCIONAL': 'string',\n",
              " 'ID_AI': 'string',\n",
              " 'ID_CAPITULO': 'string',\n",
              " 'ID_CLAVE_CARTERA': 'string',\n",
              " 'ID_CONCEPTO': 'string',\n",
              " 'ID_ENTIDAD_FEDERATIVA': 'string',\n",
              " 'ID_FF': 'string',\n",
              " 'ID_FUNCION': 'string',\n",
              " 'ID_MODALIDAD': 'string',\n",
              " 'ID_PARTIDA_ESPECIFICA': 'string',\n",
              " 'ID_PARTIDA_GENERICA': 'string',\n",
              " 'ID_PP': 'string',\n",
              " 'ID_RAMO': 'string',\n",
              " 'ID_SUBFUNCION': 'string',\n",
              " 'ID_TIPOGASTO': 'string',\n",
              " 'ID_UR': 'string',\n",
              " 'MONTO_ADEFAS': 'number',\n",
              " 'MONTO_APROBADO': 'number',\n",
              " 'MONTO_DEVENGADO': 'number',\n",
              " 'MONTO_EJERCICIO': 'number',\n",
              " 'MONTO_EJERCIDO': 'number',\n",
              " 'MONTO_MODIFICADO': 'number',\n",
              " 'MONTO_PAGADO': 'number'}"
            ]
          },
          "metadata": {},
          "execution_count": 38
        }
      ]
    },
    {
      "cell_type": "code",
      "metadata": {
        "id": "DsDCuE0M7_30"
      },
      "source": [
        "bbg_hierarchies = {}\n",
        "bbg_dimensions = {}\n",
        "bbg_measures = {}"
      ],
      "execution_count": 49,
      "outputs": []
    },
    {
      "cell_type": "code",
      "metadata": {
        "id": "MHlOgqUL82Q6"
      },
      "source": [
        "from datapackage_pipelines.generators import slugify"
      ],
      "execution_count": 52,
      "outputs": []
    },
    {
      "cell_type": "code",
      "metadata": {
        "id": "H-GZiJfC8GwJ"
      },
      "source": [
        "model = datapackage[\"resources\"][0][\"model\"]"
      ],
      "execution_count": 43,
      "outputs": []
    },
    {
      "cell_type": "code",
      "metadata": {
        "id": "UWB5zZHz8-nS"
      },
      "source": [
        "ID_COLUMN_NAME = '_fdp__id_'"
      ],
      "execution_count": 46,
      "outputs": []
    },
    {
      "cell_type": "code",
      "metadata": {
        "id": "VJzbaOQo_YpP"
      },
      "source": [
        "dataset_id, db_table, _ = extract_storage_ids(datapackage)"
      ],
      "execution_count": 54,
      "outputs": []
    },
    {
      "cell_type": "code",
      "metadata": {
        "colab": {
          "base_uri": "https://localhost:8080/"
        },
        "id": "C1ZpG-Y8_cwh",
        "outputId": "e446a063-300e-4707-edad-3624d1b1b9c7"
      },
      "source": [
        "dataset_id, db_table"
      ],
      "execution_count": 55,
      "outputs": [
        {
          "output_type": "execute_result",
          "data": {
            "text/plain": [
              "('R_kgDOGLhFbw:mexico', 'R_kgDOGLhFbw4edfc924721abb77')"
            ]
          },
          "metadata": {},
          "execution_count": 55
        }
      ]
    },
    {
      "cell_type": "code",
      "metadata": {
        "id": "aBq1UlPJ-q0J"
      },
      "source": [
        "## db_tables\n",
        "source = datapackage[\"resources\"][0][\"schema\"]\n",
        "kinds = sorted(set(\n",
        "      f['columnType'].split(':')[0]\n",
        "      for f in source['fields']\n",
        "  ) - {'value'})\n",
        "\n",
        "resources = [\n",
        "    slugify(kind, separator='_')\n",
        "    for kind in kinds\n",
        "]\n",
        "\n",
        "db_tables = dict(\n",
        "    (res, '{}_{}'.format(db_table, i))\n",
        "    for i, res in enumerate(resources)\n",
        ")\n",
        "db_tables[''] = db_table"
      ],
      "execution_count": 56,
      "outputs": []
    },
    {
      "cell_type": "code",
      "metadata": {
        "colab": {
          "base_uri": "https://localhost:8080/"
        },
        "id": "b_JH_Z1j_h02",
        "outputId": "914cc7a5-6427-4390-d86c-1c0ba43bb153"
      },
      "source": [
        "db_tables"
      ],
      "execution_count": 57,
      "outputs": [
        {
          "output_type": "execute_result",
          "data": {
            "text/plain": [
              "{'': 'R_kgDOGLhFbw4edfc924721abb77',\n",
              " 'activity': 'R_kgDOGLhFbw4edfc924721abb77_0',\n",
              " 'administrative_classification': 'R_kgDOGLhFbw4edfc924721abb77_1',\n",
              " 'budget_line_id': 'R_kgDOGLhFbw4edfc924721abb77_2',\n",
              " 'date': 'R_kgDOGLhFbw4edfc924721abb77_3',\n",
              " 'economic_classification': 'R_kgDOGLhFbw4edfc924721abb77_4',\n",
              " 'expenditure_type': 'R_kgDOGLhFbw4edfc924721abb77_5',\n",
              " 'fin_source': 'R_kgDOGLhFbw4edfc924721abb77_6',\n",
              " 'functional_classification': 'R_kgDOGLhFbw4edfc924721abb77_7',\n",
              " 'geo_source': 'R_kgDOGLhFbw4edfc924721abb77_8'}"
            ]
          },
          "metadata": {},
          "execution_count": 57
        }
      ]
    },
    {
      "cell_type": "code",
      "metadata": {
        "id": "s6u8Reg68OC3"
      },
      "source": [
        "for hierarchy_name, h_props in model['dimensions'].items():\n",
        "  hierarchy_name = slugify(hierarchy_name, separator='_')\n",
        "  hierarchy = dict(\n",
        "      label=hierarchy_name,\n",
        "      levels=h_props['primaryKey']\n",
        "  )\n",
        "  bbg_hierarchies[hierarchy_name] = hierarchy\n",
        "\n",
        "  # Get all hierarchy columns\n",
        "  attributes = h_props['attributes']\n",
        "  attributes = list(attributes.items())\n",
        "\n",
        "  # Separate to codes and labels\n",
        "  codes = dict(filter(lambda x: 'labelfor' not in x[1], attributes))\n",
        "  labels = dict(map(lambda y: (y[1]['labelfor'], y[1]),\n",
        "                    filter(lambda x: 'labelfor' in x[1], attributes)))\n",
        "  \n",
        "  # For each code, create a babbage dimension\n",
        "  for fieldname, attribute in codes.items():\n",
        "      dimension_name = fieldname\n",
        "\n",
        "      bbg_attributes = {\n",
        "          fieldname: dict(\n",
        "              column='.'.join([db_tables[hierarchy_name], fieldname]),\n",
        "              label=attribute.get('title', attribute['source']),\n",
        "              type=field_types[fieldname]\n",
        "          )\n",
        "      }\n",
        "      bbg_dimension = dict(\n",
        "          attributes=bbg_attributes,\n",
        "          key_attribute=fieldname,\n",
        "          label=attribute.get('title'),\n",
        "          join_column=[hierarchy_name+'_id', ID_COLUMN_NAME]\n",
        "      )\n",
        "\n",
        "      label = labels.get(fieldname)\n",
        "      if label is not None:\n",
        "          fieldname = label['source']\n",
        "          attribute = label\n",
        "          bbg_attributes.update({\n",
        "              fieldname: dict(\n",
        "                  column='.'.join([db_tables[hierarchy_name],\n",
        "                                  fieldname]),\n",
        "                  label=attribute.get('title', attribute['source']),\n",
        "                  type=field_types[fieldname]\n",
        "              )\n",
        "          })\n",
        "          bbg_dimension.update(dict(\n",
        "              label_attribute=fieldname\n",
        "          ))\n",
        "      bbg_dimensions[dimension_name] = bbg_dimension\n",
        "\n",
        "  for measurename, measure in model['measures'].items():\n",
        "        bbg_measures[measurename] = dict(\n",
        "            column=measurename,\n",
        "            label=measure.get('title', attribute['source']),\n",
        "            type=field_types[measurename]\n",
        "        )\n",
        "\n",
        "  datapackage['babbageModel'] = dict(\n",
        "      fact_table=db_tables[''],\n",
        "      dimensions=bbg_dimensions,\n",
        "      hierarchies=bbg_hierarchies,\n",
        "      measures=bbg_measures\n",
        "  )"
      ],
      "execution_count": 60,
      "outputs": []
    },
    {
      "cell_type": "code",
      "metadata": {
        "id": "QqaDe2amU9nb"
      },
      "source": [
        "import json"
      ],
      "execution_count": 62,
      "outputs": []
    },
    {
      "cell_type": "code",
      "metadata": {
        "colab": {
          "base_uri": "https://localhost:8080/",
          "height": 137
        },
        "id": "Vk0CIjmR8rfc",
        "outputId": "08211a07-f885-45dc-a493-afeff3789104"
      },
      "source": [
        "json.dumps(datapackage['babbageModel'])"
      ],
      "execution_count": 64,
      "outputs": [
        {
          "output_type": "execute_result",
          "data": {
            "application/vnd.google.colaboratory.intrinsic+json": {
              "type": "string"
            },
            "text/plain": [
              "'{\"fact_table\": \"R_kgDOGLhFbw4edfc924721abb77\", \"dimensions\": {\"CICLO\": {\"attributes\": {\"CICLO\": {\"column\": \"R_kgDOGLhFbw4edfc924721abb77_3.CICLO\", \"label\": \"CICLO\", \"type\": \"integer\"}}, \"key_attribute\": \"CICLO\", \"label\": \"CICLO\", \"join_column\": [\"date_id\", \"_fdp__id_\"]}, \"GPO_FUNCIONAL\": {\"attributes\": {\"GPO_FUNCIONAL\": {\"column\": \"R_kgDOGLhFbw4edfc924721abb77_7.GPO_FUNCIONAL\", \"label\": \"GPO_FUNCIONAL\", \"type\": \"string\"}, \"DESC_GPO_FUNCIONAL\": {\"column\": \"R_kgDOGLhFbw4edfc924721abb77_7.DESC_GPO_FUNCIONAL\", \"label\": \"DESC_GPO_FUNCIONAL\", \"type\": \"string\"}}, \"key_attribute\": \"GPO_FUNCIONAL\", \"label\": \"GPO_FUNCIONAL\", \"join_column\": [\"functional_classification_id\", \"_fdp__id_\"], \"label_attribute\": \"DESC_GPO_FUNCIONAL\"}, \"ID_AI\": {\"attributes\": {\"ID_AI\": {\"column\": \"R_kgDOGLhFbw4edfc924721abb77_7.ID_AI\", \"label\": \"ID_AI\", \"type\": \"string\"}, \"DESC_AI\": {\"column\": \"R_kgDOGLhFbw4edfc924721abb77_7.DESC_AI\", \"label\": \"DESC_AI\", \"type\": \"string\"}}, \"key_attribute\": \"ID_AI\", \"label\": \"ID_AI\", \"join_column\": [\"functional_classification_id\", \"_fdp__id_\"], \"label_attribute\": \"DESC_AI\"}, \"ID_FUNCION\": {\"attributes\": {\"ID_FUNCION\": {\"column\": \"R_kgDOGLhFbw4edfc924721abb77_7.ID_FUNCION\", \"label\": \"ID_FUNCION\", \"type\": \"string\"}, \"DESC_FUNCION\": {\"column\": \"R_kgDOGLhFbw4edfc924721abb77_7.DESC_FUNCION\", \"label\": \"DESC_FUNCION\", \"type\": \"string\"}}, \"key_attribute\": \"ID_FUNCION\", \"label\": \"ID_FUNCION\", \"join_column\": [\"functional_classification_id\", \"_fdp__id_\"], \"label_attribute\": \"DESC_FUNCION\"}, \"ID_SUBFUNCION\": {\"attributes\": {\"ID_SUBFUNCION\": {\"column\": \"R_kgDOGLhFbw4edfc924721abb77_7.ID_SUBFUNCION\", \"label\": \"ID_SUBFUNCION\", \"type\": \"string\"}, \"DESC_SUBFUNCION\": {\"column\": \"R_kgDOGLhFbw4edfc924721abb77_7.DESC_SUBFUNCION\", \"label\": \"DESC_SUBFUNCION\", \"type\": \"string\"}}, \"key_attribute\": \"ID_SUBFUNCION\", \"label\": \"ID_SUBFUNCION\", \"join_column\": [\"functional_classification_id\", \"_fdp__id_\"], \"label_attribute\": \"DESC_SUBFUNCION\"}, \"ID_CAPITULO\": {\"attributes\": {\"ID_CAPITULO\": {\"column\": \"R_kgDOGLhFbw4edfc924721abb77_4.ID_CAPITULO\", \"label\": \"ID_CAPITULO\", \"type\": \"string\"}, \"DESC_CAPITULO\": {\"column\": \"R_kgDOGLhFbw4edfc924721abb77_4.DESC_CAPITULO\", \"label\": \"DESC_CAPITULO\", \"type\": \"string\"}}, \"key_attribute\": \"ID_CAPITULO\", \"label\": \"ID_CAPITULO\", \"join_column\": [\"economic_classification_id\", \"_fdp__id_\"], \"label_attribute\": \"DESC_CAPITULO\"}, \"ID_CONCEPTO\": {\"attributes\": {\"ID_CONCEPTO\": {\"column\": \"R_kgDOGLhFbw4edfc924721abb77_4.ID_CONCEPTO\", \"label\": \"ID_CONCEPTO\", \"type\": \"string\"}, \"DESC_CONCEPTO\": {\"column\": \"R_kgDOGLhFbw4edfc924721abb77_4.DESC_CONCEPTO\", \"label\": \"DESC_CONCEPTO\", \"type\": \"string\"}}, \"key_attribute\": \"ID_CONCEPTO\", \"label\": \"ID_CONCEPTO\", \"join_column\": [\"economic_classification_id\", \"_fdp__id_\"], \"label_attribute\": \"DESC_CONCEPTO\"}, \"ID_PARTIDA_ESPECIFICA\": {\"attributes\": {\"ID_PARTIDA_ESPECIFICA\": {\"column\": \"R_kgDOGLhFbw4edfc924721abb77_4.ID_PARTIDA_ESPECIFICA\", \"label\": \"ID_PARTIDA_ESPECIFICA\", \"type\": \"string\"}, \"DESC_PARTIDA_ESPECIFICA\": {\"column\": \"R_kgDOGLhFbw4edfc924721abb77_4.DESC_PARTIDA_ESPECIFICA\", \"label\": \"DESC_PARTIDA_ESPECIFICA\", \"type\": \"string\"}}, \"key_attribute\": \"ID_PARTIDA_ESPECIFICA\", \"label\": \"ID_PARTIDA_ESPECIFICA\", \"join_column\": [\"economic_classification_id\", \"_fdp__id_\"], \"label_attribute\": \"DESC_PARTIDA_ESPECIFICA\"}, \"ID_PARTIDA_GENERICA\": {\"attributes\": {\"ID_PARTIDA_GENERICA\": {\"column\": \"R_kgDOGLhFbw4edfc924721abb77_4.ID_PARTIDA_GENERICA\", \"label\": \"ID_PARTIDA_GENERICA\", \"type\": \"string\"}, \"DESC_PARTIDA_GENERICA\": {\"column\": \"R_kgDOGLhFbw4edfc924721abb77_4.DESC_PARTIDA_GENERICA\", \"label\": \"DESC_PARTIDA_GENERICA\", \"type\": \"string\"}}, \"key_attribute\": \"ID_PARTIDA_GENERICA\", \"label\": \"ID_PARTIDA_GENERICA\", \"join_column\": [\"economic_classification_id\", \"_fdp__id_\"], \"label_attribute\": \"DESC_PARTIDA_GENERICA\"}, \"ID_FF\": {\"attributes\": {\"ID_FF\": {\"column\": \"R_kgDOGLhFbw4edfc924721abb77_6.ID_FF\", \"label\": \"ID_FF\", \"type\": \"string\"}, \"DESC_FF\": {\"column\": \"R_kgDOGLhFbw4edfc924721abb77_6.DESC_FF\", \"label\": \"DESC_FF\", \"type\": \"string\"}}, \"key_attribute\": \"ID_FF\", \"label\": \"ID_FF\", \"join_column\": [\"fin_source_id\", \"_fdp__id_\"], \"label_attribute\": \"DESC_FF\"}, \"DESC_PP\": {\"attributes\": {\"DESC_PP\": {\"column\": \"R_kgDOGLhFbw4edfc924721abb77_0.DESC_PP\", \"label\": \"DESC_PP\", \"type\": \"string\"}}, \"key_attribute\": \"DESC_PP\", \"label\": \"DESC_PP\", \"join_column\": [\"activity_id\", \"_fdp__id_\"]}, \"ID_MODALIDAD\": {\"attributes\": {\"ID_MODALIDAD\": {\"column\": \"R_kgDOGLhFbw4edfc924721abb77_0.ID_MODALIDAD\", \"label\": \"ID_MODALIDAD\", \"type\": \"string\"}, \"DESC_MODALIDAD\": {\"column\": \"R_kgDOGLhFbw4edfc924721abb77_0.DESC_MODALIDAD\", \"label\": \"DESC_MODALIDAD\", \"type\": \"string\"}}, \"key_attribute\": \"ID_MODALIDAD\", \"label\": \"ID_MODALIDAD\", \"join_column\": [\"activity_id\", \"_fdp__id_\"], \"label_attribute\": \"DESC_MODALIDAD\"}, \"ID_PP\": {\"attributes\": {\"ID_PP\": {\"column\": \"R_kgDOGLhFbw4edfc924721abb77_0.ID_PP\", \"label\": \"ID_PP\", \"type\": \"string\"}}, \"key_attribute\": \"ID_PP\", \"label\": \"ID_PP\", \"join_column\": [\"activity_id\", \"_fdp__id_\"]}, \"ID_RAMO\": {\"attributes\": {\"ID_RAMO\": {\"column\": \"R_kgDOGLhFbw4edfc924721abb77_1.ID_RAMO\", \"label\": \"ID_RAMO\", \"type\": \"string\"}, \"DESC_RAMO\": {\"column\": \"R_kgDOGLhFbw4edfc924721abb77_1.DESC_RAMO\", \"label\": \"DESC_RAMO\", \"type\": \"string\"}}, \"key_attribute\": \"ID_RAMO\", \"label\": \"ID_RAMO\", \"join_column\": [\"administrative_classification_id\", \"_fdp__id_\"], \"label_attribute\": \"DESC_RAMO\"}, \"ID_UR\": {\"attributes\": {\"ID_UR\": {\"column\": \"R_kgDOGLhFbw4edfc924721abb77_1.ID_UR\", \"label\": \"ID_UR\", \"type\": \"string\"}, \"DESC_UR\": {\"column\": \"R_kgDOGLhFbw4edfc924721abb77_1.DESC_UR\", \"label\": \"DESC_UR\", \"type\": \"string\"}}, \"key_attribute\": \"ID_UR\", \"label\": \"ID_UR\", \"join_column\": [\"administrative_classification_id\", \"_fdp__id_\"], \"label_attribute\": \"DESC_UR\"}, \"ID_TIPOGASTO\": {\"attributes\": {\"ID_TIPOGASTO\": {\"column\": \"R_kgDOGLhFbw4edfc924721abb77_5.ID_TIPOGASTO\", \"label\": \"ID_TIPOGASTO\", \"type\": \"string\"}, \"DESC_TIPOGASTO\": {\"column\": \"R_kgDOGLhFbw4edfc924721abb77_5.DESC_TIPOGASTO\", \"label\": \"DESC_TIPOGASTO\", \"type\": \"string\"}}, \"key_attribute\": \"ID_TIPOGASTO\", \"label\": \"ID_TIPOGASTO\", \"join_column\": [\"expenditure_type_id\", \"_fdp__id_\"], \"label_attribute\": \"DESC_TIPOGASTO\"}, \"ID_ENTIDAD_FEDERATIVA\": {\"attributes\": {\"ID_ENTIDAD_FEDERATIVA\": {\"column\": \"R_kgDOGLhFbw4edfc924721abb77_8.ID_ENTIDAD_FEDERATIVA\", \"label\": \"ID_ENTIDAD_FEDERATIVA\", \"type\": \"string\"}, \"ENTIDAD_FEDERATIVA\": {\"column\": \"R_kgDOGLhFbw4edfc924721abb77_8.ENTIDAD_FEDERATIVA\", \"label\": \"ENTIDAD_FEDERATIVA\", \"type\": \"string\"}}, \"key_attribute\": \"ID_ENTIDAD_FEDERATIVA\", \"label\": \"ID_ENTIDAD_FEDERATIVA\", \"join_column\": [\"geo_source_id\", \"_fdp__id_\"], \"label_attribute\": \"ENTIDAD_FEDERATIVA\"}, \"ID_CLAVE_CARTERA\": {\"attributes\": {\"ID_CLAVE_CARTERA\": {\"column\": \"R_kgDOGLhFbw4edfc924721abb77_2.ID_CLAVE_CARTERA\", \"label\": \"ID_CLAVE_CARTERA\", \"type\": \"string\"}}, \"key_attribute\": \"ID_CLAVE_CARTERA\", \"label\": \"ID_CLAVE_CARTERA\", \"join_column\": [\"budget_line_id_id\", \"_fdp__id_\"]}}, \"hierarchies\": {\"date\": {\"label\": \"date\", \"levels\": [\"CICLO\"]}, \"functional_classification\": {\"label\": \"functional_classification\", \"levels\": [\"GPO_FUNCIONAL\", \"ID_FUNCION\", \"ID_SUBFUNCION\", \"ID_AI\"]}, \"economic_classification\": {\"label\": \"economic_classification\", \"levels\": [\"ID_CAPITULO\", \"ID_CONCEPTO\", \"ID_PARTIDA_GENERICA\", \"ID_PARTIDA_ESPECIFICA\"]}, \"fin_source\": {\"label\": \"fin_source\", \"levels\": [\"ID_FF\"]}, \"activity\": {\"label\": \"activity\", \"levels\": [\"ID_MODALIDAD\", \"ID_PP\"]}, \"administrative_classification\": {\"label\": \"administrative_classification\", \"levels\": [\"ID_RAMO\", \"ID_UR\"]}, \"expenditure_type\": {\"label\": \"expenditure_type\", \"levels\": [\"ID_TIPOGASTO\"]}, \"geo_source\": {\"label\": \"geo_source\", \"levels\": [\"ID_ENTIDAD_FEDERATIVA\"]}, \"budget_line_id\": {\"label\": \"budget_line_id\", \"levels\": [\"ID_CLAVE_CARTERA\"]}}, \"measures\": {\"MONTO_ADEFAS\": {\"column\": \"MONTO_ADEFAS\", \"label\": \"MONTO_ADEFAS\", \"type\": \"number\"}, \"MONTO_APROBADO\": {\"column\": \"MONTO_APROBADO\", \"label\": \"MONTO_APROBADO\", \"type\": \"number\"}, \"MONTO_DEVENGADO\": {\"column\": \"MONTO_DEVENGADO\", \"label\": \"MONTO_DEVENGADO\", \"type\": \"number\"}, \"MONTO_EJERCICIO\": {\"column\": \"MONTO_EJERCICIO\", \"label\": \"MONTO_EJERCICIO\", \"type\": \"number\"}, \"MONTO_EJERCIDO\": {\"column\": \"MONTO_EJERCIDO\", \"label\": \"MONTO_EJERCIDO\", \"type\": \"number\"}, \"MONTO_MODIFICADO\": {\"column\": \"MONTO_MODIFICADO\", \"label\": \"MONTO_MODIFICADO\", \"type\": \"number\"}, \"MONTO_PAGADO\": {\"column\": \"MONTO_PAGADO\", \"label\": \"MONTO_PAGADO\", \"type\": \"number\"}}}'"
            ]
          },
          "metadata": {},
          "execution_count": 64
        }
      ]
    },
    {
      "cell_type": "code",
      "metadata": {
        "id": "WFeZEe6x9Khk"
      },
      "source": [
        ""
      ],
      "execution_count": null,
      "outputs": []
    }
  ]
}